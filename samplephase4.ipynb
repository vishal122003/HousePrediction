{
 "cells": [
  {
   "cell_type": "code",
   "execution_count": 1,
   "id": "4b49d6f2",
   "metadata": {},
   "outputs": [],
   "source": [
    "import pandas as pd\n",
    "data = pd.read_csv('modefied.csv')"
   ]
  },
  {
   "cell_type": "code",
   "execution_count": 2,
   "id": "c118904e",
   "metadata": {},
   "outputs": [],
   "source": [
    "from sklearn.ensemble import RandomForestRegressor\n",
    "from sklearn.feature_selection import RFE\n",
    "from sklearn.model_selection import train_test_split"
   ]
  },
  {
   "cell_type": "code",
   "execution_count": 3,
   "id": "a62c472c",
   "metadata": {},
   "outputs": [],
   "source": [
    "Features1 = ['Avg. Area Income', 'Avg. Area House Age', 'Avg. Area Number of Rooms', 'Avg. Area Number of Bedrooms', \n",
    "             'Area Population', 'Address','Total_Rooms']\n",
    "target = 'Price'\n",
    "X = data[Features1]\n",
    "y = data[target]"
   ]
  },
  {
   "cell_type": "code",
   "execution_count": 4,
   "id": "e853704d",
   "metadata": {},
   "outputs": [
    {
     "name": "stdout",
     "output_type": "stream",
     "text": [
      "Final Selected Features: ['Avg. Area Income']\n"
     ]
    }
   ],
   "source": [
    "X_train, X_test, y_train, y_test = train_test_split(X, y, test_size=0.2, random_state=42)\n",
    "correlation_matrix = X.corrwith(y) \n",
    "highly_correlated_features = correlation_matrix[abs(correlation_matrix) > 0.5].index.tolist()\n",
    "random_forest = RandomForestRegressor(n_estimators=100, random_state=42)\n",
    "random_forest.fit(X_train, y_train)\n",
    "feature_importances = pd.Series(random_forest.feature_importances_, index=X.columns)\n",
    "important_features = feature_importances.nlargest(3).index.tolist()  # Select top 3 features\n",
    "estimator = RandomForestRegressor(n_estimators=100, random_state=42)\n",
    "rfe = RFE(estimator, n_features_to_select=3)  # Select top 3 features\n",
    "rfe.fit(X_train, y_train)\n",
    "rfe_selected_features = X.columns[rfe.support_]\n",
    "final_selected_features = list(set(highly_correlated_features) & set(important_features) & set(rfe_selected_features))\n",
    "print(\"Final Selected Features:\", final_selected_features)"
   ]
  },
  {
   "cell_type": "code",
   "execution_count": 7,
   "id": "64349cd1",
   "metadata": {},
   "outputs": [],
   "source": [
    "from sklearn.model_selection import train_test_split, GridSearchCV, RandomizedSearchCV\n",
    "from sklearn.ensemble import RandomForestRegressor, GradientBoostingRegressor\n",
    "from sklearn.svm import SVR\n",
    "from sklearn.metrics import mean_absolute_error, r2_score"
   ]
  },
  {
   "cell_type": "code",
   "execution_count": 8,
   "id": "3517eff9",
   "metadata": {},
   "outputs": [],
   "source": [
    "Features1 = ['Avg. Area Income']\n",
    "target = 'Price'\n",
    "X2 = data[Features1]\n",
    "y2 = data[target]\n",
    "X_train, X_test, y_train, y_test = train_test_split(X2, y2, test_size=0.2, random_state=42)"
   ]
  },
  {
   "cell_type": "code",
   "execution_count": 9,
   "id": "07131cce",
   "metadata": {},
   "outputs": [
    {
     "name": "stdout",
     "output_type": "stream",
     "text": [
      "Linear Regression MAE: 0.614095764880655\n",
      "\n",
      "Linear Regression R-squared: 0.39694865192619766\n"
     ]
    }
   ],
   "source": [
    "from sklearn.linear_model import LinearRegression\n",
    "linear_reg_model = LinearRegression()\n",
    "linear_reg_model.fit(X_train, y_train)\n",
    "linear_reg_preds = linear_reg_model.predict(X_test)\n",
    "linear_reg_mae = mean_absolute_error(y_test, linear_reg_preds)\n",
    "linear_reg_r2 = r2_score(y_test, linear_reg_preds)\n",
    "print(\"Linear Regression MAE:\", linear_reg_mae)\n",
    "print(\"\\nLinear Regression R-squared:\", linear_reg_r2)"
   ]
  },
  {
   "cell_type": "code",
   "execution_count": 10,
   "id": "05e6511a",
   "metadata": {},
   "outputs": [
    {
     "name": "stdout",
     "output_type": "stream",
     "text": [
      "Random Forest MAE: 0.6274762585121568\n",
      "Random Forest R-squared: 0.364879646731914\n"
     ]
    }
   ],
   "source": [
    "random_forest = RandomForestRegressor(random_state=42)\n",
    "random_forest.fit(X_train, y_train)\n",
    "rf_param_grid = {\n",
    "    'n_estimators': [100, 200, 300],\n",
    "    'max_depth': [None, 10, 20],\n",
    "    'min_samples_split': [2, 5, 10]\n",
    "}\n",
    "rf_grid_search = GridSearchCV(estimator=random_forest, param_grid=rf_param_grid, cv=5, scoring='neg_mean_absolute_error')\n",
    "rf_grid_search.fit(X_train, y_train)\n",
    "best_rf_model = rf_grid_search.best_estimator_\n",
    "rf_preds = best_rf_model.predict(X_test)\n",
    "rf_mae = mean_absolute_error(y_test, rf_preds)\n",
    "print(\"Random Forest MAE:\", rf_mae)\n",
    "rf_r2 = r2_score(y_test, rf_preds)\n",
    "print(\"Random Forest R-squared:\", rf_r2)"
   ]
  },
  {
   "cell_type": "code",
   "execution_count": 11,
   "id": "65e2973c",
   "metadata": {},
   "outputs": [
    {
     "name": "stdout",
     "output_type": "stream",
     "text": [
      "Gradient Boosting MAE: 0.6161802678828084\n",
      "Gradient Boosting R-squared: 0.38822110155851586\n"
     ]
    }
   ],
   "source": [
    "gradient_boosting = GradientBoostingRegressor(random_state=42)\n",
    "gradient_boosting.fit(X_train, y_train)\n",
    "gb_param_dist = {\n",
    "    'n_estimators': [100, 200, 300],\n",
    "    'learning_rate': [0.05, 0.1, 0.2],\n",
    "    'max_depth': [3, 4, 5]\n",
    "}\n",
    "gb_random_search = RandomizedSearchCV(estimator=gradient_boosting, param_distributions=gb_param_dist, n_iter=10, cv=5, scoring='neg_mean_absolute_error', random_state=42)\n",
    "gb_random_search.fit(X_train, y_train)\n",
    "best_gb_model = gb_random_search.best_estimator_\n",
    "gb_preds = best_gb_model.predict(X_test)\n",
    "gb_mae = mean_absolute_error(y_test, gb_preds)\n",
    "print(\"Gradient Boosting MAE:\", gb_mae)\n",
    "gb_r2 = r2_score(y_test, gb_preds)\n",
    "print(\"Gradient Boosting R-squared:\", gb_r2)"
   ]
  },
  {
   "cell_type": "code",
   "execution_count": 12,
   "id": "fdc87e88",
   "metadata": {},
   "outputs": [
    {
     "name": "stdout",
     "output_type": "stream",
     "text": [
      "SVM MAE: 0.6141761939659601\n",
      "SVM R-squared: 0.39649575674037885\n"
     ]
    }
   ],
   "source": [
    "svm_model = SVR(kernel='linear')\n",
    "svm_model.fit(X_train, y_train)\n",
    "svm_preds = svm_model.predict(X_test)\n",
    "svm_mae = mean_absolute_error(y_test, svm_preds)\n",
    "print(\"SVM MAE:\", svm_mae)\n",
    "svm_r2 = r2_score(y_test, svm_preds)\n",
    "print(\"SVM R-squared:\", svm_r2)"
   ]
  },
  {
   "cell_type": "code",
   "execution_count": 13,
   "id": "f9c45a76",
   "metadata": {},
   "outputs": [
    {
     "name": "stdout",
     "output_type": "stream",
     "text": [
      "Linear Regression Results:\n",
      "MAE: 0.614095764880655\n",
      "RMSE: 0.7714557600514983\n",
      "R-squared: 0.39694865192619766\n",
      "Cross-Validation MAE: 0.6178299742194231\n",
      "\n",
      "Random Forest Results:\n",
      "MAE: 0.6274762585121568\n",
      "RMSE: 0.7917022787557104\n",
      "R-squared: 0.364879646731914\n",
      "Cross-Validation MAE: 0.6734429490816606\n",
      "\n",
      "Gradient Boosting Results:\n",
      "MAE: 0.6161802678828084\n",
      "RMSE: 0.7770180836289108\n",
      "R-squared: 0.38822110155851586\n",
      "Cross-Validation MAE: 0.6322871758616422\n",
      "\n",
      "SVM Results:\n",
      "MAE: 0.6141761939659601\n",
      "RMSE: 0.7717453896388473\n",
      "R-squared: 0.39649575674037885\n",
      "Cross-Validation MAE: 0.6195717939351397\n"
     ]
    }
   ],
   "source": [
    "from sklearn.metrics import mean_absolute_error, mean_squared_error, r2_score\n",
    "from sklearn.model_selection import cross_val_score, KFold\n",
    "def evaluate_model(model, X, y):\n",
    "\n",
    "    predictions = model.predict(X)\n",
    "    \n",
    "    \n",
    "    mae = mean_absolute_error(y, predictions)\n",
    "    rmse = mean_squared_error(y, predictions, squared=False)\n",
    "    r2 = r2_score(y, predictions)\n",
    "    \n",
    "    \n",
    "    kfold = KFold(n_splits=5, shuffle=True, random_state=42)\n",
    "    cross_val_mae = -cross_val_score(model, X, y, cv=kfold, scoring='neg_mean_absolute_error').mean()\n",
    "    \n",
    "    return mae, rmse, r2, cross_val_mae\n",
    "\n",
    "\n",
    "linear_reg_mae, linear_reg_rmse, linear_reg_r2, linear_reg_cross_val_mae = evaluate_model(linear_reg_model, X_test, y_test)\n",
    "\n",
    "\n",
    "rf_mae, rf_rmse, rf_r2, rf_cross_val_mae = evaluate_model(best_rf_model, X_test, y_test)\n",
    "\n",
    "\n",
    "gb_mae, gb_rmse, gb_r2, gb_cross_val_mae = evaluate_model(best_gb_model, X_test, y_test)\n",
    "\n",
    "\n",
    "svm_mae, svm_rmse, svm_r2, svm_cross_val_mae = evaluate_model(svm_model, X_test, y_test)\n",
    "\n",
    "\n",
    "print(\"Linear Regression Results:\")\n",
    "print(\"MAE:\", linear_reg_mae)\n",
    "print(\"RMSE:\", linear_reg_rmse)\n",
    "print(\"R-squared:\", linear_reg_r2)\n",
    "print(\"Cross-Validation MAE:\", linear_reg_cross_val_mae)\n",
    "print(\"\\nRandom Forest Results:\")\n",
    "print(\"MAE:\", rf_mae)\n",
    "print(\"RMSE:\", rf_rmse)\n",
    "print(\"R-squared:\", rf_r2)\n",
    "print(\"Cross-Validation MAE:\", rf_cross_val_mae)\n",
    "print(\"\\nGradient Boosting Results:\")\n",
    "print(\"MAE:\", gb_mae)\n",
    "print(\"RMSE:\", gb_rmse)\n",
    "print(\"R-squared:\", gb_r2)\n",
    "print(\"Cross-Validation MAE:\", gb_cross_val_mae)\n",
    "print(\"\\nSVM Results:\")\n",
    "print(\"MAE:\", svm_mae)\n",
    "print(\"RMSE:\", svm_rmse)\n",
    "print(\"R-squared:\", svm_r2)\n",
    "print(\"Cross-Validation MAE:\", svm_cross_val_mae)\n"
   ]
  },
  {
   "cell_type": "code",
   "execution_count": null,
   "id": "8847a944",
   "metadata": {},
   "outputs": [],
   "source": []
  }
 ],
 "metadata": {
  "kernelspec": {
   "display_name": "Python 3 (ipykernel)",
   "language": "python",
   "name": "python3"
  },
  "language_info": {
   "codemirror_mode": {
    "name": "ipython",
    "version": 3
   },
   "file_extension": ".py",
   "mimetype": "text/x-python",
   "name": "python",
   "nbconvert_exporter": "python",
   "pygments_lexer": "ipython3",
   "version": "3.11.4"
  },
  "varInspector": {
   "cols": {
    "lenName": 16,
    "lenType": 16,
    "lenVar": 40
   },
   "kernels_config": {
    "python": {
     "delete_cmd_postfix": "",
     "delete_cmd_prefix": "del ",
     "library": "var_list.py",
     "varRefreshCmd": "print(var_dic_list())"
    },
    "r": {
     "delete_cmd_postfix": ") ",
     "delete_cmd_prefix": "rm(",
     "library": "var_list.r",
     "varRefreshCmd": "cat(var_dic_list()) "
    }
   },
   "types_to_exclude": [
    "module",
    "function",
    "builtin_function_or_method",
    "instance",
    "_Feature"
   ],
   "window_display": false
  }
 },
 "nbformat": 4,
 "nbformat_minor": 5
}
